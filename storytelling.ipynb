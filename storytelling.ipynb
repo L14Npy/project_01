{
 "cells": [
  {
   "cell_type": "markdown",
   "id": "be4f50bc",
   "metadata": {},
   "source": [
    "# Proyecto de Introducción a Ciencia de Datos - 1er Semestre"
   ]
  },
  {
   "cell_type": "code",
   "execution_count": 1,
   "id": "3d78de7d",
   "metadata": {},
   "outputs": [],
   "source": [
    "from scripts import *"
   ]
  },
  {
   "cell_type": "code",
   "execution_count": 2,
   "id": "cbbc0219",
   "metadata": {},
   "outputs": [
    {
     "name": "stdout",
     "output_type": "stream",
     "text": [
      "Número de MiPymes: 10\n",
      "Cantidad total de productos: 20\n"
     ]
    }
   ],
   "source": [
    "mipymes_products_count()"
   ]
  },
  {
   "cell_type": "code",
   "execution_count": 3,
   "id": "e086b6a7",
   "metadata": {},
   "outputs": [
    {
     "name": "stdout",
     "output_type": "stream",
     "text": [
      "MiPyme: Bodegón de Calzada.\n",
      " - Dirección: Calzada / Paseo & A.\n",
      " - Cantidad de productos: 1\n",
      "MiPyme: Mi Mercadito, Llegando.\n",
      " - Dirección: Calle 5ta / E & F.\n",
      " - Cantidad de productos: 1\n",
      "MiPyme: El Rey, SRL.\n",
      " - Dirección: Calle F / 3ra y 5ta, Edif. 53, Vedado.\n",
      " - Cantidad de productos: 2\n",
      "MiPyme: Canelita.\n",
      " - Dirección: Calzada / H e I.\n",
      " - Cantidad de productos: 1\n",
      "MiPyme: Dulce María.\n",
      " - Dirección: Calzada / L & K.\n",
      " - Cantidad de productos: 2\n",
      "MiPyme: Tic Toc.\n",
      " - Dirección: L & 11, Vedado.\n",
      " - Cantidad de productos: 3\n",
      "MiPyme: Bodegón B12.\n",
      " - Dirección: .\n",
      " - Cantidad de productos: 2\n",
      "MiPyme: Ale´s Supermarket.\n",
      " - Dirección: Línea / 10 & 12.\n",
      " - Cantidad de productos: 2\n",
      "MiPyme: Fress.\n",
      " - Dirección: 23 & 12.\n",
      " - Cantidad de productos: 2\n",
      "MiPyme: Familia Peréz.\n",
      " - Dirección: 23 & 24.\n",
      " - Cantidad de productos: 4\n"
     ]
    }
   ],
   "source": [
    "mipymes_town()"
   ]
  },
  {
   "cell_type": "code",
   "execution_count": null,
   "id": "4901a556",
   "metadata": {},
   "outputs": [
    {
     "data": {
      "text/plain": [
       "874.0"
      ]
     },
     "execution_count": 14,
     "metadata": {},
     "output_type": "execute_result"
    }
   ],
   "source": [
    "def average_total():\n",
    "    with open('./datasets/mipymes.json', 'r', encoding='utf-8') as f:\n",
    "        data = json.load(f)\n",
    "\n",
    "    mipymes = data[\"mipymes\"]\n",
    "    n_prices = []\n",
    "\n",
    "    for i in range(len(mipymes)):\n",
    "        products = mipymes[i][\"products\"]\n",
    "\n",
    "        for j in range(len(products)):\n",
    "            price = products[j][\"price\"]\n",
    "            n_prices.append(price)\n",
    "\n",
    "    return sum(n_prices) // len(n_prices)\n",
    "\n",
    "average_total()"
   ]
  }
 ],
 "metadata": {
  "kernelspec": {
   "display_name": ".global",
   "language": "python",
   "name": "python3"
  },
  "language_info": {
   "codemirror_mode": {
    "name": "ipython",
    "version": 3
   },
   "file_extension": ".py",
   "mimetype": "text/x-python",
   "name": "python",
   "nbconvert_exporter": "python",
   "pygments_lexer": "ipython3",
   "version": "3.13.7"
  }
 },
 "nbformat": 4,
 "nbformat_minor": 5
}
