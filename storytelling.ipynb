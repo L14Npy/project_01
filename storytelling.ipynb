{
 "cells": [
  {
   "cell_type": "markdown",
   "id": "be4f50bc",
   "metadata": {},
   "source": [
    "# Proyecto de Introducción a Ciencia de Datos - 1er Semestre"
   ]
  },
  {
   "cell_type": "code",
   "execution_count": 1,
   "id": "3d78de7d",
   "metadata": {},
   "outputs": [],
   "source": [
    "from scripts import *"
   ]
  },
  {
   "cell_type": "code",
   "execution_count": 2,
   "id": "cbbc0219",
   "metadata": {},
   "outputs": [
    {
     "name": "stdout",
     "output_type": "stream",
     "text": [
      "Número de MiPymes: 11\n",
      "Cantidad total de productos: 27\n"
     ]
    }
   ],
   "source": [
    "mipymes_products_count()"
   ]
  },
  {
   "cell_type": "code",
   "execution_count": 3,
   "id": "e086b6a7",
   "metadata": {},
   "outputs": [
    {
     "name": "stdout",
     "output_type": "stream",
     "text": [
      "MiPyme: Bodegón de Calzada.\n",
      " - Dirección: Calzada / Paseo & A.\n",
      " - Cantidad de productos: 1\n",
      "MiPyme: Mi Mercadito, Llegando.\n",
      " - Dirección: Calle 5ta / E & F.\n",
      " - Cantidad de productos: 1\n",
      "MiPyme: El Rey, SRL.\n",
      " - Dirección: Calle F / 3ra y 5ta, Edif. 53, Vedado.\n",
      " - Cantidad de productos: 2\n",
      "MiPyme: Canelita.\n",
      " - Dirección: Calzada / H e I.\n",
      " - Cantidad de productos: 1\n",
      "MiPyme: Dulce María.\n",
      " - Dirección: Calzada / L & K.\n",
      " - Cantidad de productos: 2\n",
      "MiPyme: Tic Toc.\n",
      " - Dirección: L & 11, Vedado.\n",
      " - Cantidad de productos: 5\n",
      "MiPyme: Bodegón B12.\n",
      " - Dirección: .\n",
      " - Cantidad de productos: 2\n",
      "MiPyme: Ale´s Supermarket.\n",
      " - Dirección: Línea / 10 & 12.\n",
      " - Cantidad de productos: 2\n",
      "MiPyme: Fress.\n",
      " - Dirección: 23 & 12.\n",
      " - Cantidad de productos: 2\n",
      "MiPyme: Familia Peréz.\n",
      " - Dirección: 23 & 24.\n",
      " - Cantidad de productos: 7\n",
      "MiPyme: Bodegón, Las Duras.\n",
      " - Dirección: Calle, dirección.\n",
      " - Cantidad de productos: 2\n"
     ]
    }
   ],
   "source": [
    "mipymes_town()"
   ]
  },
  {
   "cell_type": "code",
   "execution_count": 4,
   "id": "4901a556",
   "metadata": {},
   "outputs": [
    {
     "data": {
      "text/plain": [
       "937.0"
      ]
     },
     "execution_count": 4,
     "metadata": {},
     "output_type": "execute_result"
    }
   ],
   "source": [
    "average_total()"
   ]
  },
  {
   "cell_type": "code",
   "execution_count": 5,
   "id": "7750d960",
   "metadata": {},
   "outputs": [
    {
     "name": "stdout",
     "output_type": "stream",
     "text": [
      "Cantidad de Marcas: 15 \n",
      "- Marcas: Camil, San Diego, Extremo Sabor, Energy, Raiha Brazil, Vima, Castellum, Polskamp, Qbanito, Del Campo, Convirán, Onis, Sublime, Dolcezza, Quality\n",
      "Cantidad de Países: 7 \n",
      "- Procedencia: BR, MX, ES, MA, POL, US, ITA\n"
     ]
    }
   ],
   "source": [
    "brand()"
   ]
  },
  {
   "cell_type": "code",
   "execution_count": 6,
   "id": "02055e10",
   "metadata": {},
   "outputs": [
    {
     "name": "stdout",
     "output_type": "stream",
     "text": [
      "Brasil: 7 \n",
      "- Marcas: Camil, Extremo Sabor, Energy, Raiha Brazil, Qbanito, Sublime, Quality\n",
      "México: 2 \n",
      "- Marcas: San Diego, Onis\n",
      "España: 2 \n",
      "- Marcas: Vima, Convirán\n",
      "Malasia: 1 \n",
      "- Marcas: Castellum\n",
      "Polonia: 1 \n",
      "- Marcas: Polskamp\n",
      "Estados Unidos: 1 \n",
      "- Marcas: Del Campo\n",
      "Italia: 1 \n",
      "- Marcas: Dolcezza\n"
     ]
    }
   ],
   "source": [
    "brand_country()"
   ]
  }
 ],
 "metadata": {
  "kernelspec": {
   "display_name": ".global",
   "language": "python",
   "name": "python3"
  },
  "language_info": {
   "codemirror_mode": {
    "name": "ipython",
    "version": 3
   },
   "file_extension": ".py",
   "mimetype": "text/x-python",
   "name": "python",
   "nbconvert_exporter": "python",
   "pygments_lexer": "ipython3",
   "version": "3.13.7"
  }
 },
 "nbformat": 4,
 "nbformat_minor": 5
}
