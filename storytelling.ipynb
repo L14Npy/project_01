{
 "cells": [
  {
   "cell_type": "markdown",
   "id": "be4f50bc",
   "metadata": {},
   "source": [
    "# Proyecto de Introducción a Ciencia de Datos - 1er Semestre"
   ]
  },
  {
   "cell_type": "code",
   "execution_count": 1,
   "id": "3d78de7d",
   "metadata": {},
   "outputs": [],
   "source": [
    "from scripts import *"
   ]
  },
  {
   "cell_type": "code",
   "execution_count": 2,
   "id": "cbbc0219",
   "metadata": {},
   "outputs": [
    {
     "name": "stdout",
     "output_type": "stream",
     "text": [
      "Número de MiPymes: 6\n"
     ]
    }
   ],
   "source": [
    "count_mipymes()"
   ]
  }
 ],
 "metadata": {
  "kernelspec": {
   "display_name": ".global",
   "language": "python",
   "name": "python3"
  },
  "language_info": {
   "codemirror_mode": {
    "name": "ipython",
    "version": 3
   },
   "file_extension": ".py",
   "mimetype": "text/x-python",
   "name": "python",
   "nbconvert_exporter": "python",
   "pygments_lexer": "ipython3",
   "version": "3.13.7"
  }
 },
 "nbformat": 4,
 "nbformat_minor": 5
}
